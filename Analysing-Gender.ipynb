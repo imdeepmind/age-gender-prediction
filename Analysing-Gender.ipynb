{
 "cells": [
  {
   "cell_type": "code",
   "execution_count": 1,
   "metadata": {},
   "outputs": [],
   "source": [
    "# Importing dependencies\n",
    "\n",
    "import pandas as pd\n",
    "import numpy as np\n",
    "import matplotlib.pyplot as plt"
   ]
  },
  {
   "cell_type": "code",
   "execution_count": 2,
   "metadata": {},
   "outputs": [],
   "source": [
    "# Loading the data\n",
    "data = pd.read_csv('meta.csv')"
   ]
  },
  {
   "cell_type": "code",
   "execution_count": 3,
   "metadata": {},
   "outputs": [
    {
     "data": {
      "text/html": [
       "<div>\n",
       "<style scoped>\n",
       "    .dataframe tbody tr th:only-of-type {\n",
       "        vertical-align: middle;\n",
       "    }\n",
       "\n",
       "    .dataframe tbody tr th {\n",
       "        vertical-align: top;\n",
       "    }\n",
       "\n",
       "    .dataframe thead th {\n",
       "        text-align: right;\n",
       "    }\n",
       "</style>\n",
       "<table border=\"1\" class=\"dataframe\">\n",
       "  <thead>\n",
       "    <tr style=\"text-align: right;\">\n",
       "      <th></th>\n",
       "      <th>age</th>\n",
       "      <th>gender</th>\n",
       "      <th>path</th>\n",
       "    </tr>\n",
       "  </thead>\n",
       "  <tbody>\n",
       "    <tr>\n",
       "      <th>0</th>\n",
       "      <td>42</td>\n",
       "      <td>male</td>\n",
       "      <td>imdb_crop/82/nm0005282_rm878739712_1966-10-31_...</td>\n",
       "    </tr>\n",
       "    <tr>\n",
       "      <th>1</th>\n",
       "      <td>32</td>\n",
       "      <td>female</td>\n",
       "      <td>imdb_crop/76/nm1411676_rm2490280960_1979-6-24_...</td>\n",
       "    </tr>\n",
       "    <tr>\n",
       "      <th>2</th>\n",
       "      <td>29</td>\n",
       "      <td>male</td>\n",
       "      <td>imdb_crop/83/nm1145983_rm1406371840_1979-7-31_...</td>\n",
       "    </tr>\n",
       "    <tr>\n",
       "      <th>3</th>\n",
       "      <td>22</td>\n",
       "      <td>female</td>\n",
       "      <td>imdb_crop/02/nm3240202_rm2934473728_1986-2-28_...</td>\n",
       "    </tr>\n",
       "    <tr>\n",
       "      <th>4</th>\n",
       "      <td>78</td>\n",
       "      <td>female</td>\n",
       "      <td>imdb_crop/12/nm0326412_rm1823643648_1926-9-7_2...</td>\n",
       "    </tr>\n",
       "    <tr>\n",
       "      <th>5</th>\n",
       "      <td>21</td>\n",
       "      <td>male</td>\n",
       "      <td>wiki_crop/69/7662469_1985-04-11_2007.jpg</td>\n",
       "    </tr>\n",
       "    <tr>\n",
       "      <th>6</th>\n",
       "      <td>57</td>\n",
       "      <td>male</td>\n",
       "      <td>imdb_crop/90/nm0631490_rm1216584448_1949-12-12...</td>\n",
       "    </tr>\n",
       "    <tr>\n",
       "      <th>7</th>\n",
       "      <td>35</td>\n",
       "      <td>male</td>\n",
       "      <td>imdb_crop/42/nm0000242_rm236165120_1971-6-5_20...</td>\n",
       "    </tr>\n",
       "    <tr>\n",
       "      <th>8</th>\n",
       "      <td>46</td>\n",
       "      <td>male</td>\n",
       "      <td>imdb_crop/41/nm0000141_rm3241982464_1960-8-7_2...</td>\n",
       "    </tr>\n",
       "    <tr>\n",
       "      <th>9</th>\n",
       "      <td>65</td>\n",
       "      <td>female</td>\n",
       "      <td>imdb_crop/17/nm0001217_rm3134096640_1941-12-10...</td>\n",
       "    </tr>\n",
       "  </tbody>\n",
       "</table>\n",
       "</div>"
      ],
      "text/plain": [
       "   age  gender                                               path\n",
       "0   42    male  imdb_crop/82/nm0005282_rm878739712_1966-10-31_...\n",
       "1   32  female  imdb_crop/76/nm1411676_rm2490280960_1979-6-24_...\n",
       "2   29    male  imdb_crop/83/nm1145983_rm1406371840_1979-7-31_...\n",
       "3   22  female  imdb_crop/02/nm3240202_rm2934473728_1986-2-28_...\n",
       "4   78  female  imdb_crop/12/nm0326412_rm1823643648_1926-9-7_2...\n",
       "5   21    male           wiki_crop/69/7662469_1985-04-11_2007.jpg\n",
       "6   57    male  imdb_crop/90/nm0631490_rm1216584448_1949-12-12...\n",
       "7   35    male  imdb_crop/42/nm0000242_rm236165120_1971-6-5_20...\n",
       "8   46    male  imdb_crop/41/nm0000141_rm3241982464_1960-8-7_2...\n",
       "9   65  female  imdb_crop/17/nm0001217_rm3134096640_1941-12-10..."
      ]
     },
     "execution_count": 3,
     "metadata": {},
     "output_type": "execute_result"
    }
   ],
   "source": [
    "# Printing top 10 rows\n",
    "data.head(10)"
   ]
  },
  {
   "cell_type": "code",
   "execution_count": 4,
   "metadata": {},
   "outputs": [
    {
     "data": {
      "text/html": [
       "<div>\n",
       "<style scoped>\n",
       "    .dataframe tbody tr th:only-of-type {\n",
       "        vertical-align: middle;\n",
       "    }\n",
       "\n",
       "    .dataframe tbody tr th {\n",
       "        vertical-align: top;\n",
       "    }\n",
       "\n",
       "    .dataframe thead th {\n",
       "        text-align: right;\n",
       "    }\n",
       "</style>\n",
       "<table border=\"1\" class=\"dataframe\">\n",
       "  <thead>\n",
       "    <tr style=\"text-align: right;\">\n",
       "      <th></th>\n",
       "      <th>age</th>\n",
       "      <th>gender</th>\n",
       "      <th>path</th>\n",
       "    </tr>\n",
       "  </thead>\n",
       "  <tbody>\n",
       "    <tr>\n",
       "      <th>224830</th>\n",
       "      <td>43</td>\n",
       "      <td>male</td>\n",
       "      <td>wiki_crop/22/7875022_1968-07-03_2012.jpg</td>\n",
       "    </tr>\n",
       "    <tr>\n",
       "      <th>224831</th>\n",
       "      <td>50</td>\n",
       "      <td>male</td>\n",
       "      <td>imdb_crop/93/nm0364893_rm652919040_1914-11-6_1...</td>\n",
       "    </tr>\n",
       "    <tr>\n",
       "      <th>224832</th>\n",
       "      <td>19</td>\n",
       "      <td>female</td>\n",
       "      <td>imdb_crop/89/nm2368789_rm3306264320_1988-12-1_...</td>\n",
       "    </tr>\n",
       "    <tr>\n",
       "      <th>224833</th>\n",
       "      <td>44</td>\n",
       "      <td>male</td>\n",
       "      <td>imdb_crop/12/nm0396812_rm1892521984_1962-5-14_...</td>\n",
       "    </tr>\n",
       "    <tr>\n",
       "      <th>224834</th>\n",
       "      <td>40</td>\n",
       "      <td>male</td>\n",
       "      <td>imdb_crop/54/nm0196654_rm3866528000_1968-8-4_2...</td>\n",
       "    </tr>\n",
       "    <tr>\n",
       "      <th>224835</th>\n",
       "      <td>21</td>\n",
       "      <td>female</td>\n",
       "      <td>imdb_crop/26/nm2812026_rm3454576128_1989-3-2_2...</td>\n",
       "    </tr>\n",
       "    <tr>\n",
       "      <th>224836</th>\n",
       "      <td>48</td>\n",
       "      <td>male</td>\n",
       "      <td>wiki_crop/15/3139215_1963-05-10_2012.jpg</td>\n",
       "    </tr>\n",
       "    <tr>\n",
       "      <th>224837</th>\n",
       "      <td>46</td>\n",
       "      <td>male</td>\n",
       "      <td>imdb_crop/02/nm0000102_rm1861655296_1958-7-8_2...</td>\n",
       "    </tr>\n",
       "    <tr>\n",
       "      <th>224838</th>\n",
       "      <td>33</td>\n",
       "      <td>male</td>\n",
       "      <td>imdb_crop/65/nm0727165_rm2160511232_1980-1-8_2...</td>\n",
       "    </tr>\n",
       "    <tr>\n",
       "      <th>224839</th>\n",
       "      <td>28</td>\n",
       "      <td>male</td>\n",
       "      <td>imdb_crop/46/nm2073546_rm4116433408_1977-11-6_...</td>\n",
       "    </tr>\n",
       "  </tbody>\n",
       "</table>\n",
       "</div>"
      ],
      "text/plain": [
       "        age  gender                                               path\n",
       "224830   43    male           wiki_crop/22/7875022_1968-07-03_2012.jpg\n",
       "224831   50    male  imdb_crop/93/nm0364893_rm652919040_1914-11-6_1...\n",
       "224832   19  female  imdb_crop/89/nm2368789_rm3306264320_1988-12-1_...\n",
       "224833   44    male  imdb_crop/12/nm0396812_rm1892521984_1962-5-14_...\n",
       "224834   40    male  imdb_crop/54/nm0196654_rm3866528000_1968-8-4_2...\n",
       "224835   21  female  imdb_crop/26/nm2812026_rm3454576128_1989-3-2_2...\n",
       "224836   48    male           wiki_crop/15/3139215_1963-05-10_2012.jpg\n",
       "224837   46    male  imdb_crop/02/nm0000102_rm1861655296_1958-7-8_2...\n",
       "224838   33    male  imdb_crop/65/nm0727165_rm2160511232_1980-1-8_2...\n",
       "224839   28    male  imdb_crop/46/nm2073546_rm4116433408_1977-11-6_..."
      ]
     },
     "execution_count": 4,
     "metadata": {},
     "output_type": "execute_result"
    }
   ],
   "source": [
    "# Printing last 10 rows\n",
    "data.tail(10)"
   ]
  },
  {
   "cell_type": "code",
   "execution_count": 5,
   "metadata": {},
   "outputs": [
    {
     "data": {
      "text/plain": [
       "(224840, 3)"
      ]
     },
     "execution_count": 5,
     "metadata": {},
     "output_type": "execute_result"
    }
   ],
   "source": [
    "# Dimension of the data\n",
    "data.shape"
   ]
  },
  {
   "cell_type": "code",
   "execution_count": 6,
   "metadata": {},
   "outputs": [
    {
     "data": {
      "text/plain": [
       "Index(['age', 'gender', 'path'], dtype='object')"
      ]
     },
     "execution_count": 6,
     "metadata": {},
     "output_type": "execute_result"
    }
   ],
   "source": [
    "# Printing columns\n",
    "data.columns"
   ]
  },
  {
   "cell_type": "code",
   "execution_count": 9,
   "metadata": {},
   "outputs": [
    {
     "data": {
      "image/png": "[encoded data removed]",
      "text/plain": [
       "<Figure size 432x288 with 1 Axes>"
      ]
     },
     "metadata": {
      "needs_background": "light"
     },
     "output_type": "display_data"
    }
   ],
   "source": [
    "# Male vs Female\n",
    "gender = data['gender'].values == 'male'\n",
    "males = sum(gender)\n",
    "females = len(data) - males\n",
    "\n",
    "plt.bar([1,2],[males,females])\n",
    "plt.title('There are total ' + str(males) + ' male images and ' + str(females) + ' images')\n",
    "plt.show()"
   ]
  },
  {
   "cell_type": "code",
   "execution_count": null,
   "metadata": {},
   "outputs": [],
   "source": []
  }
 ],
 "metadata": {
  "kernelspec": {
   "display_name": "Python 3",
   "language": "python",
   "name": "python3"
  },
  "language_info": {
   "codemirror_mode": {
    "name": "ipython",
    "version": 3
   },
   "file_extension": ".py",
   "mimetype": "text/x-python",
   "name": "python",
   "nbconvert_exporter": "python",
   "pygments_lexer": "ipython3",
   "version": "3.6.7"
  }
 },
 "nbformat": 4,
 "nbformat_minor": 2
}
