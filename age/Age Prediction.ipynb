{
  "nbformat": 4,
  "nbformat_minor": 0,
  "metadata": {
    "colab": {
      "name": "Age prediction.ipynb",
      "version": "0.3.2",
      "provenance": [],
      "toc_visible": true
    },
    "kernelspec": {
      "name": "python3",
      "display_name": "Python 3"
    },
    "accelerator": "GPU"
  },
  "cells": [
    {
      "metadata": {
        "id": "IlSmoUqwbC87",
        "colab_type": "text"
      },
      "cell_type": "markdown",
      "source": [
        "# Age prediction\n",
        "by Abhishek Chatterjee(abhishekchatterjeejit@gmail.com)\n",
        "\n",
        "http://imdeepmind.ml"
      ]
    },
    {
      "metadata": {
        "id": "UGF5Uqa8avuN",
        "colab_type": "code",
        "outputId": "48a3b215-291f-4b3d-e606-e3f0101c94f4",
        "colab": {
          "base_uri": "https://localhost:8080/",
          "height": 33
        }
      },
      "cell_type": "code",
      "source": [
        "# The dataset is in my google drive\n",
        "# So this code is for downloading those dataset here in collab\n",
        "\n",
        "# Load the Drive helper and mount\n",
        "from google.colab import drive\n",
        "\n",
        "# This will prompt for authorization.\n",
        "drive.mount('/content/drive', force_remount=True)"
      ],
      "execution_count": 0,
      "outputs": [
        {
          "output_type": "stream",
          "text": [
            "Mounted at /content/drive\n"
          ],
          "name": "stdout"
        }
      ]
    },
    {
      "metadata": {
        "id": "NpeJYmPxbSah",
        "colab_type": "code",
        "colab": {}
      },
      "cell_type": "code",
      "source": [
        "# Importing pandas and numpy for data manapulation\n",
        "\n",
        "import pandas as pd\n",
        "import numpy as np"
      ],
      "execution_count": 0,
      "outputs": []
    },
    {
      "metadata": {
        "id": "13GDEUBdbZLD",
        "colab_type": "code",
        "colab": {}
      },
      "cell_type": "code",
      "source": [
        "data = pd.read_csv('drive/My Drive/datasets/wiki_0.csv')"
      ],
      "execution_count": 0,
      "outputs": []
    },
    {
      "metadata": {
        "id": "M7s8aDBpbcZv",
        "colab_type": "code",
        "outputId": "57542673-ad19-40ee-f6cb-b17dfb1aa7fa",
        "colab": {
          "base_uri": "https://localhost:8080/",
          "height": 336
        }
      },
      "cell_type": "code",
      "source": [
        "# Lets explore the dataset\n",
        "\n",
        "data.head()"
      ],
      "execution_count": 18,
      "outputs": [
        {
          "output_type": "execute_result",
          "data": {
            "text/html": [
              "<div>\n",
              "<style scoped>\n",
              "    .dataframe tbody tr th:only-of-type {\n",
              "        vertical-align: middle;\n",
              "    }\n",
              "\n",
              "    .dataframe tbody tr th {\n",
              "        vertical-align: top;\n",
              "    }\n",
              "\n",
              "    .dataframe thead th {\n",
              "        text-align: right;\n",
              "    }\n",
              "</style>\n",
              "<table border=\"1\" class=\"dataframe\">\n",
              "  <thead>\n",
              "    <tr style=\"text-align: right;\">\n",
              "      <th></th>\n",
              "      <th>Unnamed: 0</th>\n",
              "      <th>pixel1</th>\n",
              "      <th>pixel2</th>\n",
              "      <th>pixel3</th>\n",
              "      <th>pixel4</th>\n",
              "      <th>pixel5</th>\n",
              "      <th>pixel6</th>\n",
              "      <th>pixel7</th>\n",
              "      <th>pixel8</th>\n",
              "      <th>pixel9</th>\n",
              "      <th>...</th>\n",
              "      <th>pixel4091</th>\n",
              "      <th>pixel4092</th>\n",
              "      <th>pixel4093</th>\n",
              "      <th>pixel4094</th>\n",
              "      <th>pixel4095</th>\n",
              "      <th>pixel4096</th>\n",
              "      <th>dob</th>\n",
              "      <th>photo_taken</th>\n",
              "      <th>gender</th>\n",
              "      <th>name</th>\n",
              "    </tr>\n",
              "  </thead>\n",
              "  <tbody>\n",
              "    <tr>\n",
              "      <th>0</th>\n",
              "      <td>0</td>\n",
              "      <td>64</td>\n",
              "      <td>65</td>\n",
              "      <td>70</td>\n",
              "      <td>50</td>\n",
              "      <td>177</td>\n",
              "      <td>122</td>\n",
              "      <td>92</td>\n",
              "      <td>78</td>\n",
              "      <td>90</td>\n",
              "      <td>...</td>\n",
              "      <td>37</td>\n",
              "      <td>39</td>\n",
              "      <td>39</td>\n",
              "      <td>45</td>\n",
              "      <td>48</td>\n",
              "      <td>43</td>\n",
              "      <td>1981-05-05</td>\n",
              "      <td>2009</td>\n",
              "      <td>male</td>\n",
              "      <td>Sami Jauhojärvi</td>\n",
              "    </tr>\n",
              "    <tr>\n",
              "      <th>1</th>\n",
              "      <td>1</td>\n",
              "      <td>143</td>\n",
              "      <td>155</td>\n",
              "      <td>157</td>\n",
              "      <td>165</td>\n",
              "      <td>162</td>\n",
              "      <td>175</td>\n",
              "      <td>166</td>\n",
              "      <td>165</td>\n",
              "      <td>169</td>\n",
              "      <td>...</td>\n",
              "      <td>95</td>\n",
              "      <td>66</td>\n",
              "      <td>58</td>\n",
              "      <td>61</td>\n",
              "      <td>69</td>\n",
              "      <td>54</td>\n",
              "      <td>1925-04-04</td>\n",
              "      <td>1964</td>\n",
              "      <td>male</td>\n",
              "      <td>Dettmar Cramer</td>\n",
              "    </tr>\n",
              "    <tr>\n",
              "      <th>2</th>\n",
              "      <td>2</td>\n",
              "      <td>38</td>\n",
              "      <td>54</td>\n",
              "      <td>54</td>\n",
              "      <td>46</td>\n",
              "      <td>51</td>\n",
              "      <td>34</td>\n",
              "      <td>37</td>\n",
              "      <td>25</td>\n",
              "      <td>35</td>\n",
              "      <td>...</td>\n",
              "      <td>115</td>\n",
              "      <td>115</td>\n",
              "      <td>115</td>\n",
              "      <td>115</td>\n",
              "      <td>115</td>\n",
              "      <td>115</td>\n",
              "      <td>1948-07-03</td>\n",
              "      <td>2008</td>\n",
              "      <td>male</td>\n",
              "      <td>Marc Okrand</td>\n",
              "    </tr>\n",
              "    <tr>\n",
              "      <th>3</th>\n",
              "      <td>3</td>\n",
              "      <td>47</td>\n",
              "      <td>47</td>\n",
              "      <td>47</td>\n",
              "      <td>47</td>\n",
              "      <td>47</td>\n",
              "      <td>47</td>\n",
              "      <td>47</td>\n",
              "      <td>47</td>\n",
              "      <td>45</td>\n",
              "      <td>...</td>\n",
              "      <td>144</td>\n",
              "      <td>142</td>\n",
              "      <td>142</td>\n",
              "      <td>147</td>\n",
              "      <td>153</td>\n",
              "      <td>156</td>\n",
              "      <td>1971-05-31</td>\n",
              "      <td>2012</td>\n",
              "      <td>female</td>\n",
              "      <td>Diana Damrau</td>\n",
              "    </tr>\n",
              "    <tr>\n",
              "      <th>4</th>\n",
              "      <td>4</td>\n",
              "      <td>197</td>\n",
              "      <td>210</td>\n",
              "      <td>218</td>\n",
              "      <td>215</td>\n",
              "      <td>220</td>\n",
              "      <td>206</td>\n",
              "      <td>190</td>\n",
              "      <td>165</td>\n",
              "      <td>143</td>\n",
              "      <td>...</td>\n",
              "      <td>64</td>\n",
              "      <td>48</td>\n",
              "      <td>53</td>\n",
              "      <td>62</td>\n",
              "      <td>69</td>\n",
              "      <td>56</td>\n",
              "      <td>1960-11-09</td>\n",
              "      <td>2012</td>\n",
              "      <td>female</td>\n",
              "      <td>Krista Tippett</td>\n",
              "    </tr>\n",
              "  </tbody>\n",
              "</table>\n",
              "<p>5 rows × 4101 columns</p>\n",
              "</div>"
            ],
            "text/plain": [
              "   Unnamed: 0  pixel1  pixel2  pixel3  pixel4  pixel5  pixel6  pixel7  pixel8  \\\n",
              "0           0      64      65      70      50     177     122      92      78   \n",
              "1           1     143     155     157     165     162     175     166     165   \n",
              "2           2      38      54      54      46      51      34      37      25   \n",
              "3           3      47      47      47      47      47      47      47      47   \n",
              "4           4     197     210     218     215     220     206     190     165   \n",
              "\n",
              "   pixel9       ...         pixel4091  pixel4092  pixel4093  pixel4094  \\\n",
              "0      90       ...                37         39         39         45   \n",
              "1     169       ...                95         66         58         61   \n",
              "2      35       ...               115        115        115        115   \n",
              "3      45       ...               144        142        142        147   \n",
              "4     143       ...                64         48         53         62   \n",
              "\n",
              "   pixel4095  pixel4096         dob  photo_taken  gender             name  \n",
              "0         48         43  1981-05-05         2009    male  Sami Jauhojärvi  \n",
              "1         69         54  1925-04-04         1964    male   Dettmar Cramer  \n",
              "2        115        115  1948-07-03         2008    male      Marc Okrand  \n",
              "3        153        156  1971-05-31         2012  female     Diana Damrau  \n",
              "4         69         56  1960-11-09         2012  female   Krista Tippett  \n",
              "\n",
              "[5 rows x 4101 columns]"
            ]
          },
          "metadata": {
            "tags": []
          },
          "execution_count": 18
        }
      ]
    },
    {
      "metadata": {
        "id": "0-go2HaEbfY3",
        "colab_type": "code",
        "outputId": "cf7c1e1e-a45a-4c47-e2a8-c9bd421cc1e9",
        "colab": {
          "base_uri": "https://localhost:8080/",
          "height": 131
        }
      },
      "cell_type": "code",
      "source": [
        "print(data.shape)\n",
        "print(data.columns)"
      ],
      "execution_count": 4,
      "outputs": [
        {
          "output_type": "stream",
          "text": [
            "(36156, 4101)\n",
            "Index(['Unnamed: 0', 'pixel1', 'pixel2', 'pixel3', 'pixel4', 'pixel5',\n",
            "       'pixel6', 'pixel7', 'pixel8', 'pixel9',\n",
            "       ...\n",
            "       'pixel4091', 'pixel4092', 'pixel4093', 'pixel4094', 'pixel4095',\n",
            "       'pixel4096', 'dob', 'photo_taken', 'gender', 'name'],\n",
            "      dtype='object', length=4101)\n"
          ],
          "name": "stdout"
        }
      ]
    },
    {
      "metadata": {
        "id": "6-ljYd8BbmXa",
        "colab_type": "code",
        "colab": {}
      },
      "cell_type": "code",
      "source": [
        "# Manapulating the data\n",
        "\n",
        "data = data.drop(['Unnamed: 0', 'gender', 'name'], axis=1)\n",
        "X = data.drop(['dob', 'photo_taken'], axis=1)\n",
        "y1 = data['dob']\n",
        "y2 = data['photo_taken']\n",
        "\n",
        "# del data\n",
        "\n",
        "X = X.values.reshape(-1,64,64,1)\n",
        "\n",
        "X = X / 255.0"
      ],
      "execution_count": 0,
      "outputs": []
    },
    {
      "metadata": {
        "id": "A5eU1wG5b6_r",
        "colab_type": "code",
        "colab": {}
      },
      "cell_type": "code",
      "source": [
        "y1 = y1.values\n",
        "y2 = y2.values"
      ],
      "execution_count": 0,
      "outputs": []
    },
    {
      "metadata": {
        "id": "Gn8yLj9aLaxM",
        "colab_type": "code",
        "colab": {}
      },
      "cell_type": "code",
      "source": [
        "import datetime as date\n",
        "from dateutil.relativedelta import relativedelta\n",
        "\n",
        "y = []\n",
        "\n",
        "for i in range(len(y1)):\n",
        "  try:\n",
        "    d1 = date.datetime.strptime(y1[i][0:10], '%Y-%m-%d')\n",
        "  except:\n",
        "    d1 = date.datetime.strptime('1963-01-01', '%Y-%m-%d')\n",
        "  d2 = date.datetime.strptime(str(y2[i]), '%Y')\n",
        "  rdelta = relativedelta(d2, d1)\n",
        "  y.append(rdelta.years)"
      ],
      "execution_count": 0,
      "outputs": []
    },
    {
      "metadata": {
        "id": "upfnXirVdnZg",
        "colab_type": "code",
        "colab": {}
      },
      "cell_type": "code",
      "source": [
        "y = np.asarray(y, np.int64)\n",
        "y = y/100"
      ],
      "execution_count": 0,
      "outputs": []
    },
    {
      "metadata": {
        "id": "Nn1h4VC1UwzF",
        "colab_type": "code",
        "colab": {}
      },
      "cell_type": "code",
      "source": [
        "# Spliting the dataset into train and test set\n",
        "\n",
        "from sklearn.model_selection import train_test_split\n",
        "X_train, X_test, y_train, y_test = train_test_split(X,y, test_size=0.1, random_state=2)\n",
        "\n",
        "del X, y"
      ],
      "execution_count": 0,
      "outputs": []
    },
    {
      "metadata": {
        "id": "pYU9XphFgUp5",
        "colab_type": "code",
        "outputId": "afe42f6a-c4f8-452a-dc77-4b16549e9e80",
        "colab": {
          "base_uri": "https://localhost:8080/",
          "height": 86
        }
      },
      "cell_type": "code",
      "source": [
        "from keras.models import Sequential\n",
        "from keras.layers import Dense, Conv2D, MaxPool2D, Flatten, Dropout\n",
        "from keras.preprocessing.image import ImageDataGenerator\n",
        "\n",
        "model = Sequential()\n",
        "\n",
        "model.add(Conv2D(filters = 16, kernel_size = 3, strides=1, padding='same', activation = 'relu', input_shape = (64,64,1)))\n",
        "model.add(Conv2D(filters = 16, kernel_size = 3, strides=1, padding='same', activation = 'relu'))\n",
        "model.add(Conv2D(filters = 16, kernel_size = 3, strides=1, padding='same', activation = 'relu'))\n",
        "\n",
        "model.add(MaxPool2D(pool_size = 2, strides = 2))\n",
        "\n",
        "model.add(Flatten())\n",
        "model.add(Dense(units = 128, activation = 'relu'))\n",
        "model.add(Dense(units = 64, activation = 'relu'))\n",
        "model.add(Dropout(0.33))\n",
        "model.add(Dense(units = 1, kernel_initializer='normal'))\n",
        "\n",
        "datagen = ImageDataGenerator(\n",
        "        featurewise_center=False,\n",
        "        samplewise_center=False,  \n",
        "        featurewise_std_normalization=False,\n",
        "        samplewise_std_normalization=False,\n",
        "        zca_whitening=False,\n",
        "        rotation_range=10,  \n",
        "        zoom_range = 0.1, \n",
        "        width_shift_range=0.1,  \n",
        "        height_shift_range=0.1,\n",
        "        horizontal_flip=False,  \n",
        "        vertical_flip=False)\n",
        "\n",
        "datagen.fit(X_train)\n",
        "\n",
        "model.compile(loss='mean_squared_error', optimizer='adam')"
      ],
      "execution_count": 41,
      "outputs": [
        {
          "output_type": "stream",
          "text": [
            "WARNING:tensorflow:From /usr/local/lib/python3.6/dist-packages/keras/backend/tensorflow_backend.py:3445: calling dropout (from tensorflow.python.ops.nn_ops) with keep_prob is deprecated and will be removed in a future version.\n",
            "Instructions for updating:\n",
            "Please use `rate` instead of `keep_prob`. Rate should be set to `rate = 1 - keep_prob`.\n"
          ],
          "name": "stdout"
        }
      ]
    },
    {
      "metadata": {
        "id": "POathqt0gmcr",
        "colab_type": "code",
        "colab": {
          "base_uri": "https://localhost:8080/",
          "height": 423
        },
        "outputId": "4208527f-000c-40ca-8b1e-3ed003854829"
      },
      "cell_type": "code",
      "source": [
        "model.summary()"
      ],
      "execution_count": 42,
      "outputs": [
        {
          "output_type": "stream",
          "text": [
            "_________________________________________________________________\n",
            "Layer (type)                 Output Shape              Param #   \n",
            "=================================================================\n",
            "conv2d_4 (Conv2D)            (None, 64, 64, 16)        160       \n",
            "_________________________________________________________________\n",
            "conv2d_5 (Conv2D)            (None, 64, 64, 16)        2320      \n",
            "_________________________________________________________________\n",
            "conv2d_6 (Conv2D)            (None, 64, 64, 16)        2320      \n",
            "_________________________________________________________________\n",
            "max_pooling2d_2 (MaxPooling2 (None, 32, 32, 16)        0         \n",
            "_________________________________________________________________\n",
            "flatten_2 (Flatten)          (None, 16384)             0         \n",
            "_________________________________________________________________\n",
            "dense_3 (Dense)              (None, 128)               2097280   \n",
            "_________________________________________________________________\n",
            "dense_4 (Dense)              (None, 64)                8256      \n",
            "_________________________________________________________________\n",
            "dropout_1 (Dropout)          (None, 64)                0         \n",
            "_________________________________________________________________\n",
            "dense_5 (Dense)              (None, 1)                 65        \n",
            "=================================================================\n",
            "Total params: 2,110,401\n",
            "Trainable params: 2,110,401\n",
            "Non-trainable params: 0\n",
            "_________________________________________________________________\n"
          ],
          "name": "stdout"
        }
      ]
    },
    {
      "metadata": {
        "id": "5VDwih8DVLbb",
        "colab_type": "code",
        "colab": {
          "base_uri": "https://localhost:8080/",
          "height": 830
        },
        "outputId": "69c93efa-4a81-4502-bcc0-574e3b9d9d2b"
      },
      "cell_type": "code",
      "source": [
        "# Training the model\n",
        "\n",
        "history = model.fit_generator(datagen.flow(X_train, y_train, batch_size=32),\n",
        "                    validation_data = (X_test,y_test),\n",
        "                    steps_per_epoch=len(X_train) / 32, epochs=25)"
      ],
      "execution_count": 44,
      "outputs": [
        {
          "output_type": "stream",
          "text": [
            "Epoch 1/25\n",
            "1017/1016 [==============================] - 26s 25ms/step - loss: 0.0200 - val_loss: 0.0174\n",
            "Epoch 2/25\n",
            "1017/1016 [==============================] - 26s 25ms/step - loss: 0.0196 - val_loss: 0.0173\n",
            "Epoch 3/25\n",
            "1017/1016 [==============================] - 26s 26ms/step - loss: 0.0191 - val_loss: 0.0168\n",
            "Epoch 4/25\n",
            "1017/1016 [==============================] - 26s 25ms/step - loss: 0.0192 - val_loss: 0.0160\n",
            "Epoch 5/25\n",
            "1017/1016 [==============================] - 25s 25ms/step - loss: 0.0188 - val_loss: 0.0170\n",
            "Epoch 6/25\n",
            "1017/1016 [==============================] - 26s 25ms/step - loss: 0.0186 - val_loss: 0.0190\n",
            "Epoch 7/25\n",
            "1017/1016 [==============================] - 25s 25ms/step - loss: 0.0185 - val_loss: 0.0153\n",
            "Epoch 8/25\n",
            "1017/1016 [==============================] - 25s 25ms/step - loss: 0.0181 - val_loss: 0.0164\n",
            "Epoch 9/25\n",
            "1017/1016 [==============================] - 25s 25ms/step - loss: 0.0180 - val_loss: 0.0156\n",
            "Epoch 10/25\n",
            "1017/1016 [==============================] - 25s 25ms/step - loss: 0.0178 - val_loss: 0.0161\n",
            "Epoch 11/25\n",
            "1017/1016 [==============================] - 25s 25ms/step - loss: 0.0177 - val_loss: 0.0151\n",
            "Epoch 12/25\n",
            "1017/1016 [==============================] - 26s 26ms/step - loss: 0.0175 - val_loss: 0.0163\n",
            "Epoch 13/25\n",
            "1017/1016 [==============================] - 26s 25ms/step - loss: 0.0174 - val_loss: 0.0152\n",
            "Epoch 14/25\n",
            "1017/1016 [==============================] - 26s 26ms/step - loss: 0.0173 - val_loss: 0.0148\n",
            "Epoch 15/25\n",
            "1017/1016 [==============================] - 26s 26ms/step - loss: 0.0173 - val_loss: 0.0152\n",
            "Epoch 16/25\n",
            "1017/1016 [==============================] - 26s 25ms/step - loss: 0.0171 - val_loss: 0.0147\n",
            "Epoch 17/25\n",
            "1017/1016 [==============================] - 25s 25ms/step - loss: 0.0169 - val_loss: 0.0157\n",
            "Epoch 18/25\n",
            "1017/1016 [==============================] - 25s 25ms/step - loss: 0.0170 - val_loss: 0.0147\n",
            "Epoch 19/25\n",
            "1017/1016 [==============================] - 25s 25ms/step - loss: 0.0169 - val_loss: 0.0152\n",
            "Epoch 20/25\n",
            "1017/1016 [==============================] - 26s 25ms/step - loss: 0.0169 - val_loss: 0.0146\n",
            "Epoch 21/25\n",
            "1017/1016 [==============================] - 26s 25ms/step - loss: 0.0168 - val_loss: 0.0146\n",
            "Epoch 22/25\n",
            "1017/1016 [==============================] - 26s 25ms/step - loss: 0.0167 - val_loss: 0.0145\n",
            "Epoch 23/25\n",
            "1017/1016 [==============================] - 26s 25ms/step - loss: 0.0168 - val_loss: 0.0149\n",
            "Epoch 24/25\n",
            "1017/1016 [==============================] - 26s 26ms/step - loss: 0.0166 - val_loss: 0.0145\n",
            "Epoch 25/25\n",
            "1017/1016 [==============================] - 26s 25ms/step - loss: 0.0165 - val_loss: 0.0145\n"
          ],
          "name": "stdout"
        }
      ]
    },
    {
      "metadata": {
        "id": "Y2_3Fdi2VQ2K",
        "colab_type": "code",
        "colab": {
          "base_uri": "https://localhost:8080/",
          "height": 426
        },
        "outputId": "5abd328e-39f8-451c-fcbd-d4a59cf08705"
      },
      "cell_type": "code",
      "source": [
        "import matplotlib.pyplot as plt\n",
        "hist_df = pd.DataFrame(history.history)\n",
        "\n",
        "fig = plt.figure(figsize=(14,6))\n",
        "plt.style.use('bmh')\n",
        "params_dict = dict(linestyle='solid', linewidth=0.25, marker='o', markersize=6)\n",
        "\n",
        "plt.subplot(121)\n",
        "plt.plot(hist_df.loss, label='Training loss', **params_dict)\n",
        "plt.plot(hist_df.val_loss, label='Validation loss', **params_dict)\n",
        "plt.title('Loss for ' + str(len(history.epoch)) + ' epochs')\n",
        "plt.xlabel('Epoch')\n",
        "plt.ylabel('Loss')\n",
        "plt.legend()"
      ],
      "execution_count": 46,
      "outputs": [
        {
          "output_type": "execute_result",
          "data": {
            "text/plain": [
              "<matplotlib.legend.Legend at 0x7f3fc54d9400>"
            ]
          },
          "metadata": {
            "tags": []
          },
          "execution_count": 46
        },
        {
          "output_type": "display_data",
          "data": {
            "image/png": "[encoded data removed]",
            "text/plain": [
              "<Figure size 1008x432 with 1 Axes>"
            ]
          },
          "metadata": {
            "tags": []
          }
        }
      ]
    },
    {
      "metadata": {
        "id": "BuqeKAAtYq8K",
        "colab_type": "code",
        "colab": {}
      },
      "cell_type": "code",
      "source": [
        "model.save('age.h5')"
      ],
      "execution_count": 0,
      "outputs": []
    },
    {
      "metadata": {
        "id": "KDCsd11LY0nr",
        "colab_type": "code",
        "colab": {}
      },
      "cell_type": "code",
      "source": [
        ""
      ],
      "execution_count": 0,
      "outputs": []
    }
  ]
}