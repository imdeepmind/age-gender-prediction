{
  "nbformat": 4,
  "nbformat_minor": 0,
  "metadata": {
    "colab": {
      "name": "Age Prediction.ipynb",
      "version": "0.3.2",
      "provenance": [],
      "toc_visible": true
    },
    "kernelspec": {
      "name": "python3",
      "display_name": "Python 3"
    },
    "accelerator": "GPU"
  },
  "cells": [
    {
      "metadata": {
        "id": "RTXHQ2l7SuVv",
        "colab_type": "text"
      },
      "cell_type": "markdown",
      "source": [
        "# Age prediction\n",
        "by Abhishek Chatterjee(abhishekchatterjeejit@gmail.com)\n",
        "\n",
        "http://imdeepmind.ml"
      ]
    },
    {
      "metadata": {
        "id": "Bp1OmOtsSlIG",
        "colab_type": "code",
        "colab": {
          "base_uri": "https://localhost:8080/",
          "height": 34
        },
        "outputId": "0f945aa1-d226-475c-9152-5f2ca88da36f"
      },
      "cell_type": "code",
      "source": [
        "# The dataset is in my google drive\n",
        "# So this code is for downloading those dataset here in collab\n",
        "\n",
        "# Load the Drive helper and mount\n",
        "from google.colab import drive\n",
        "\n",
        "# This will prompt for authorization.\n",
        "drive.mount('/content/drive', force_remount=True)"
      ],
      "execution_count": 1,
      "outputs": [
        {
          "output_type": "stream",
          "text": [
            "Mounted at /content/drive\n"
          ],
          "name": "stdout"
        }
      ]
    },
    {
      "metadata": {
        "id": "NluqmElYSx3B",
        "colab_type": "code",
        "colab": {}
      },
      "cell_type": "code",
      "source": [
        "# Importing pandas and numpy for data manapulation\n",
        "\n",
        "import pandas as pd\n",
        "import numpy as np"
      ],
      "execution_count": 0,
      "outputs": []
    },
    {
      "metadata": {
        "id": "UT2XJoy-S7Pd",
        "colab_type": "code",
        "colab": {}
      },
      "cell_type": "code",
      "source": [
        "data = pd.read_csv('drive/My Drive/datasets/wiki_0.csv')"
      ],
      "execution_count": 0,
      "outputs": []
    },
    {
      "metadata": {
        "id": "jRIh3d8zS-Pm",
        "colab_type": "code",
        "colab": {
          "base_uri": "https://localhost:8080/",
          "height": 360
        },
        "outputId": "9e71fdc3-0b51-424f-8641-29efdb2e3ee4"
      },
      "cell_type": "code",
      "source": [
        "# Lets explore the dataset\n",
        "\n",
        "data.head()"
      ],
      "execution_count": 4,
      "outputs": [
        {
          "output_type": "execute_result",
          "data": {
            "text/html": [
              "<div>\n",
              "<style scoped>\n",
              "    .dataframe tbody tr th:only-of-type {\n",
              "        vertical-align: middle;\n",
              "    }\n",
              "\n",
              "    .dataframe tbody tr th {\n",
              "        vertical-align: top;\n",
              "    }\n",
              "\n",
              "    .dataframe thead th {\n",
              "        text-align: right;\n",
              "    }\n",
              "</style>\n",
              "<table border=\"1\" class=\"dataframe\">\n",
              "  <thead>\n",
              "    <tr style=\"text-align: right;\">\n",
              "      <th></th>\n",
              "      <th>Unnamed: 0</th>\n",
              "      <th>pixel1</th>\n",
              "      <th>pixel2</th>\n",
              "      <th>pixel3</th>\n",
              "      <th>pixel4</th>\n",
              "      <th>pixel5</th>\n",
              "      <th>pixel6</th>\n",
              "      <th>pixel7</th>\n",
              "      <th>pixel8</th>\n",
              "      <th>pixel9</th>\n",
              "      <th>...</th>\n",
              "      <th>pixel4091</th>\n",
              "      <th>pixel4092</th>\n",
              "      <th>pixel4093</th>\n",
              "      <th>pixel4094</th>\n",
              "      <th>pixel4095</th>\n",
              "      <th>pixel4096</th>\n",
              "      <th>dob</th>\n",
              "      <th>photo_taken</th>\n",
              "      <th>gender</th>\n",
              "      <th>name</th>\n",
              "    </tr>\n",
              "  </thead>\n",
              "  <tbody>\n",
              "    <tr>\n",
              "      <th>0</th>\n",
              "      <td>0</td>\n",
              "      <td>64</td>\n",
              "      <td>65</td>\n",
              "      <td>70</td>\n",
              "      <td>50</td>\n",
              "      <td>177</td>\n",
              "      <td>122</td>\n",
              "      <td>92</td>\n",
              "      <td>78</td>\n",
              "      <td>90</td>\n",
              "      <td>...</td>\n",
              "      <td>37</td>\n",
              "      <td>39</td>\n",
              "      <td>39</td>\n",
              "      <td>45</td>\n",
              "      <td>48</td>\n",
              "      <td>43</td>\n",
              "      <td>1981-05-05</td>\n",
              "      <td>2009</td>\n",
              "      <td>male</td>\n",
              "      <td>Sami Jauhojärvi</td>\n",
              "    </tr>\n",
              "    <tr>\n",
              "      <th>1</th>\n",
              "      <td>1</td>\n",
              "      <td>143</td>\n",
              "      <td>155</td>\n",
              "      <td>157</td>\n",
              "      <td>165</td>\n",
              "      <td>162</td>\n",
              "      <td>175</td>\n",
              "      <td>166</td>\n",
              "      <td>165</td>\n",
              "      <td>169</td>\n",
              "      <td>...</td>\n",
              "      <td>95</td>\n",
              "      <td>66</td>\n",
              "      <td>58</td>\n",
              "      <td>61</td>\n",
              "      <td>69</td>\n",
              "      <td>54</td>\n",
              "      <td>1925-04-04</td>\n",
              "      <td>1964</td>\n",
              "      <td>male</td>\n",
              "      <td>Dettmar Cramer</td>\n",
              "    </tr>\n",
              "    <tr>\n",
              "      <th>2</th>\n",
              "      <td>2</td>\n",
              "      <td>38</td>\n",
              "      <td>54</td>\n",
              "      <td>54</td>\n",
              "      <td>46</td>\n",
              "      <td>51</td>\n",
              "      <td>34</td>\n",
              "      <td>37</td>\n",
              "      <td>25</td>\n",
              "      <td>35</td>\n",
              "      <td>...</td>\n",
              "      <td>115</td>\n",
              "      <td>115</td>\n",
              "      <td>115</td>\n",
              "      <td>115</td>\n",
              "      <td>115</td>\n",
              "      <td>115</td>\n",
              "      <td>1948-07-03</td>\n",
              "      <td>2008</td>\n",
              "      <td>male</td>\n",
              "      <td>Marc Okrand</td>\n",
              "    </tr>\n",
              "    <tr>\n",
              "      <th>3</th>\n",
              "      <td>3</td>\n",
              "      <td>47</td>\n",
              "      <td>47</td>\n",
              "      <td>47</td>\n",
              "      <td>47</td>\n",
              "      <td>47</td>\n",
              "      <td>47</td>\n",
              "      <td>47</td>\n",
              "      <td>47</td>\n",
              "      <td>45</td>\n",
              "      <td>...</td>\n",
              "      <td>144</td>\n",
              "      <td>142</td>\n",
              "      <td>142</td>\n",
              "      <td>147</td>\n",
              "      <td>153</td>\n",
              "      <td>156</td>\n",
              "      <td>1971-05-31</td>\n",
              "      <td>2012</td>\n",
              "      <td>female</td>\n",
              "      <td>Diana Damrau</td>\n",
              "    </tr>\n",
              "    <tr>\n",
              "      <th>4</th>\n",
              "      <td>4</td>\n",
              "      <td>197</td>\n",
              "      <td>210</td>\n",
              "      <td>218</td>\n",
              "      <td>215</td>\n",
              "      <td>220</td>\n",
              "      <td>206</td>\n",
              "      <td>190</td>\n",
              "      <td>165</td>\n",
              "      <td>143</td>\n",
              "      <td>...</td>\n",
              "      <td>64</td>\n",
              "      <td>48</td>\n",
              "      <td>53</td>\n",
              "      <td>62</td>\n",
              "      <td>69</td>\n",
              "      <td>56</td>\n",
              "      <td>1960-11-09</td>\n",
              "      <td>2012</td>\n",
              "      <td>female</td>\n",
              "      <td>Krista Tippett</td>\n",
              "    </tr>\n",
              "  </tbody>\n",
              "</table>\n",
              "<p>5 rows × 4101 columns</p>\n",
              "</div>"
            ],
            "text/plain": [
              "   Unnamed: 0  pixel1  pixel2  pixel3  pixel4  pixel5  pixel6  pixel7  pixel8  \\\n",
              "0           0      64      65      70      50     177     122      92      78   \n",
              "1           1     143     155     157     165     162     175     166     165   \n",
              "2           2      38      54      54      46      51      34      37      25   \n",
              "3           3      47      47      47      47      47      47      47      47   \n",
              "4           4     197     210     218     215     220     206     190     165   \n",
              "\n",
              "   pixel9       ...         pixel4091  pixel4092  pixel4093  pixel4094  \\\n",
              "0      90       ...                37         39         39         45   \n",
              "1     169       ...                95         66         58         61   \n",
              "2      35       ...               115        115        115        115   \n",
              "3      45       ...               144        142        142        147   \n",
              "4     143       ...                64         48         53         62   \n",
              "\n",
              "   pixel4095  pixel4096         dob  photo_taken  gender             name  \n",
              "0         48         43  1981-05-05         2009    male  Sami Jauhojärvi  \n",
              "1         69         54  1925-04-04         1964    male   Dettmar Cramer  \n",
              "2        115        115  1948-07-03         2008    male      Marc Okrand  \n",
              "3        153        156  1971-05-31         2012  female     Diana Damrau  \n",
              "4         69         56  1960-11-09         2012  female   Krista Tippett  \n",
              "\n",
              "[5 rows x 4101 columns]"
            ]
          },
          "metadata": {
            "tags": []
          },
          "execution_count": 4
        }
      ]
    },
    {
      "metadata": {
        "id": "qOxFIzCSTA5-",
        "colab_type": "code",
        "colab": {
          "base_uri": "https://localhost:8080/",
          "height": 139
        },
        "outputId": "70c826e6-4818-4529-ca62-1b80d7bb9c7d"
      },
      "cell_type": "code",
      "source": [
        "print(data.shape)\n",
        "print(data.columns)"
      ],
      "execution_count": 5,
      "outputs": [
        {
          "output_type": "stream",
          "text": [
            "(36156, 4101)\n",
            "Index(['Unnamed: 0', 'pixel1', 'pixel2', 'pixel3', 'pixel4', 'pixel5',\n",
            "       'pixel6', 'pixel7', 'pixel8', 'pixel9',\n",
            "       ...\n",
            "       'pixel4091', 'pixel4092', 'pixel4093', 'pixel4094', 'pixel4095',\n",
            "       'pixel4096', 'dob', 'photo_taken', 'gender', 'name'],\n",
            "      dtype='object', length=4101)\n"
          ],
          "name": "stdout"
        }
      ]
    },
    {
      "metadata": {
        "id": "TUZ9grRDTGAZ",
        "colab_type": "code",
        "colab": {}
      },
      "cell_type": "code",
      "source": [
        "data = data.drop(['Unnamed: 0', 'gender', 'name'], axis=1)"
      ],
      "execution_count": 0,
      "outputs": []
    },
    {
      "metadata": {
        "id": "a5POmOnaTKhU",
        "colab_type": "code",
        "colab": {}
      },
      "cell_type": "code",
      "source": [
        "import datetime as date\n",
        "from dateutil.relativedelta import relativedelta\n",
        "\n",
        "y = []\n",
        "\n",
        "for i in range(len(data)):\n",
        "    try:\n",
        "        d1 = date.datetime.strptime(data['dob'][i][0:10], '%Y-%m-%d')\n",
        "        d2 = date.datetime.strptime(str(data['photo_taken'][i]), '%Y')\n",
        "        rdelta = relativedelta(d2, d1)\n",
        "        diff = rdelta.years\n",
        "    except:\n",
        "        diff = -1\n",
        "    y.append(diff)\n",
        "\n",
        "data['age'] = pd.Series(y)\n",
        "\n",
        "data = data.loc[data['age'] >= 1]\n",
        "\n",
        "data = data.loc[data['age'] <= 100]\n",
        "\n",
        "del y"
      ],
      "execution_count": 0,
      "outputs": []
    },
    {
      "metadata": {
        "id": "wCQOUl_gTTsB",
        "colab_type": "code",
        "colab": {
          "base_uri": "https://localhost:8080/",
          "height": 34
        },
        "outputId": "9278cef1-1c59-4477-db45-f890e07f2af1"
      },
      "cell_type": "code",
      "source": [
        "data.shape"
      ],
      "execution_count": 8,
      "outputs": [
        {
          "output_type": "execute_result",
          "data": {
            "text/plain": [
              "(36095, 4099)"
            ]
          },
          "metadata": {
            "tags": []
          },
          "execution_count": 8
        }
      ]
    },
    {
      "metadata": {
        "id": "HaiM2gItTa1o",
        "colab_type": "code",
        "colab": {}
      },
      "cell_type": "code",
      "source": [
        "X = data.drop(['dob', 'photo_taken', 'age'], axis=1)\n",
        "y = data['age']\n",
        "\n",
        "del data\n",
        "\n",
        "X = X.values.reshape(-1,64,64,1)\n",
        "\n",
        "X = X / 255.0\n",
        "\n",
        "y = y.values"
      ],
      "execution_count": 0,
      "outputs": []
    },
    {
      "metadata": {
        "id": "OQMhlfvVTkA8",
        "colab_type": "code",
        "colab": {}
      },
      "cell_type": "code",
      "source": [
        "# Spliting the dataset into train and test set\n",
        "\n",
        "from sklearn.model_selection import train_test_split\n",
        "X_train, X_test, y_train, y_test = train_test_split(X,y, test_size=0.1, random_state=2)\n",
        "\n",
        "del X, y"
      ],
      "execution_count": 0,
      "outputs": []
    },
    {
      "metadata": {
        "id": "qAtKDxO0Tqx9",
        "colab_type": "code",
        "colab": {
          "base_uri": "https://localhost:8080/",
          "height": 159
        },
        "outputId": "35df25af-6b09-4959-b896-f410983f4be8"
      },
      "cell_type": "code",
      "source": [
        "from keras.models import Sequential\n",
        "from keras.layers import Dense, Conv2D, MaxPool2D, Flatten, Dropout\n",
        "from keras.preprocessing.image import ImageDataGenerator\n",
        "\n",
        "model = Sequential()\n",
        "\n",
        "model.add(Conv2D(filters = 16, kernel_size = 3, strides=1, padding='same', activation = 'relu', input_shape = (64,64,1)))\n",
        "model.add(Conv2D(filters = 16, kernel_size = 3, strides=1, padding='same', activation = 'relu'))\n",
        "model.add(Conv2D(filters = 16, kernel_size = 3, strides=1, padding='same', activation = 'relu'))\n",
        "\n",
        "model.add(MaxPool2D(pool_size = 2, strides = 2))\n",
        "\n",
        "model.add(Flatten())\n",
        "model.add(Dense(units = 128, activation = 'relu'))\n",
        "model.add(Dense(units = 64, activation = 'relu'))\n",
        "model.add(Dropout(0.33))\n",
        "model.add(Dense(units = 1, kernel_initializer='normal'))\n",
        "\n",
        "datagen = ImageDataGenerator(\n",
        "        featurewise_center=False,\n",
        "        samplewise_center=False,  \n",
        "        featurewise_std_normalization=False,\n",
        "        samplewise_std_normalization=False,\n",
        "        zca_whitening=False,\n",
        "        rotation_range=10,  \n",
        "        zoom_range = 0.1, \n",
        "        width_shift_range=0.1,  \n",
        "        height_shift_range=0.1,\n",
        "        horizontal_flip=False,  \n",
        "        vertical_flip=False)\n",
        "\n",
        "datagen.fit(X_train)\n",
        "\n",
        "model.compile(loss='mean_squared_error', optimizer='adam')"
      ],
      "execution_count": 23,
      "outputs": [
        {
          "output_type": "stream",
          "text": [
            "Using TensorFlow backend.\n"
          ],
          "name": "stderr"
        },
        {
          "output_type": "stream",
          "text": [
            "WARNING:tensorflow:From /usr/local/lib/python3.6/dist-packages/tensorflow/python/framework/op_def_library.py:263: colocate_with (from tensorflow.python.framework.ops) is deprecated and will be removed in a future version.\n",
            "Instructions for updating:\n",
            "Colocations handled automatically by placer.\n",
            "WARNING:tensorflow:From /usr/local/lib/python3.6/dist-packages/keras/backend/tensorflow_backend.py:3445: calling dropout (from tensorflow.python.ops.nn_ops) with keep_prob is deprecated and will be removed in a future version.\n",
            "Instructions for updating:\n",
            "Please use `rate` instead of `keep_prob`. Rate should be set to `rate = 1 - keep_prob`.\n"
          ],
          "name": "stdout"
        }
      ]
    },
    {
      "metadata": {
        "id": "JgmhDgwiUbPd",
        "colab_type": "code",
        "colab": {
          "base_uri": "https://localhost:8080/",
          "height": 451
        },
        "outputId": "aa560d25-b409-477b-80b5-74ce218fccc6"
      },
      "cell_type": "code",
      "source": [
        "model.summary()"
      ],
      "execution_count": 24,
      "outputs": [
        {
          "output_type": "stream",
          "text": [
            "_________________________________________________________________\n",
            "Layer (type)                 Output Shape              Param #   \n",
            "=================================================================\n",
            "conv2d_1 (Conv2D)            (None, 64, 64, 16)        160       \n",
            "_________________________________________________________________\n",
            "conv2d_2 (Conv2D)            (None, 64, 64, 16)        2320      \n",
            "_________________________________________________________________\n",
            "conv2d_3 (Conv2D)            (None, 64, 64, 16)        2320      \n",
            "_________________________________________________________________\n",
            "max_pooling2d_1 (MaxPooling2 (None, 32, 32, 16)        0         \n",
            "_________________________________________________________________\n",
            "flatten_1 (Flatten)          (None, 16384)             0         \n",
            "_________________________________________________________________\n",
            "dense_1 (Dense)              (None, 128)               2097280   \n",
            "_________________________________________________________________\n",
            "dense_2 (Dense)              (None, 64)                8256      \n",
            "_________________________________________________________________\n",
            "dropout_1 (Dropout)          (None, 64)                0         \n",
            "_________________________________________________________________\n",
            "dense_3 (Dense)              (None, 1)                 65        \n",
            "=================================================================\n",
            "Total params: 2,110,401\n",
            "Trainable params: 2,110,401\n",
            "Non-trainable params: 0\n",
            "_________________________________________________________________\n"
          ],
          "name": "stdout"
        }
      ]
    },
    {
      "metadata": {
        "id": "nGEPKs0JUeZ7",
        "colab_type": "code",
        "colab": {
          "base_uri": "https://localhost:8080/",
          "height": 957
        },
        "outputId": "8d92d011-f77e-425d-abfa-a360d4cf0387"
      },
      "cell_type": "code",
      "source": [
        "# Training the model\n",
        "\n",
        "history = model.fit_generator(datagen.flow(X_train, y_train, batch_size=32),\n",
        "                    validation_data = (X_test,y_test),\n",
        "                    steps_per_epoch=len(X_train) / 32, epochs=25)"
      ],
      "execution_count": 25,
      "outputs": [
        {
          "output_type": "stream",
          "text": [
            "WARNING:tensorflow:From /usr/local/lib/python3.6/dist-packages/tensorflow/python/ops/math_ops.py:3066: to_int32 (from tensorflow.python.ops.math_ops) is deprecated and will be removed in a future version.\n",
            "Instructions for updating:\n",
            "Use tf.cast instead.\n",
            "Epoch 1/25\n",
            "1016/1015 [==============================] - 32s 32ms/step - loss: 293.5873 - val_loss: 262.2987\n",
            "Epoch 2/25\n",
            "1016/1015 [==============================] - 27s 26ms/step - loss: 244.8676 - val_loss: 199.8096\n",
            "Epoch 3/25\n",
            "1016/1015 [==============================] - 27s 27ms/step - loss: 220.1916 - val_loss: 179.1147\n",
            "Epoch 4/25\n",
            "1016/1015 [==============================] - 27s 26ms/step - loss: 207.2471 - val_loss: 201.0371\n",
            "Epoch 5/25\n",
            "1016/1015 [==============================] - 27s 27ms/step - loss: 199.7022 - val_loss: 164.3207\n",
            "Epoch 6/25\n",
            "1016/1015 [==============================] - 27s 26ms/step - loss: 191.6331 - val_loss: 198.1232\n",
            "Epoch 7/25\n",
            "1016/1015 [==============================] - 26s 26ms/step - loss: 187.8567 - val_loss: 187.4430\n",
            "Epoch 8/25\n",
            "1016/1015 [==============================] - 27s 27ms/step - loss: 184.9529 - val_loss: 158.0651\n",
            "Epoch 9/25\n",
            "1016/1015 [==============================] - 27s 27ms/step - loss: 181.1013 - val_loss: 155.9721\n",
            "Epoch 10/25\n",
            "1016/1015 [==============================] - 26s 26ms/step - loss: 178.9524 - val_loss: 151.0442\n",
            "Epoch 11/25\n",
            "1016/1015 [==============================] - 27s 26ms/step - loss: 178.4107 - val_loss: 152.7701\n",
            "Epoch 12/25\n",
            "1016/1015 [==============================] - 28s 27ms/step - loss: 174.6819 - val_loss: 144.9542\n",
            "Epoch 13/25\n",
            "1016/1015 [==============================] - 27s 26ms/step - loss: 171.9121 - val_loss: 169.4499\n",
            "Epoch 14/25\n",
            "1016/1015 [==============================] - 27s 27ms/step - loss: 170.5931 - val_loss: 145.6489\n",
            "Epoch 15/25\n",
            "1016/1015 [==============================] - 27s 26ms/step - loss: 168.1126 - val_loss: 145.0562\n",
            "Epoch 16/25\n",
            "1016/1015 [==============================] - 27s 26ms/step - loss: 168.4241 - val_loss: 153.7929\n",
            "Epoch 17/25\n",
            "1016/1015 [==============================] - 26s 26ms/step - loss: 161.7361 - val_loss: 143.5194\n",
            "Epoch 18/25\n",
            "1016/1015 [==============================] - 27s 27ms/step - loss: 160.7004 - val_loss: 142.5467\n",
            "Epoch 19/25\n",
            "1016/1015 [==============================] - 27s 26ms/step - loss: 159.1269 - val_loss: 135.8707\n",
            "Epoch 20/25\n",
            "1016/1015 [==============================] - 27s 27ms/step - loss: 157.8440 - val_loss: 138.3884\n",
            "Epoch 21/25\n",
            "1016/1015 [==============================] - 27s 27ms/step - loss: 157.2141 - val_loss: 144.6831\n",
            "Epoch 22/25\n",
            "1016/1015 [==============================] - 28s 27ms/step - loss: 156.5100 - val_loss: 154.3903\n",
            "Epoch 23/25\n",
            "1016/1015 [==============================] - 27s 27ms/step - loss: 155.4807 - val_loss: 132.7754\n",
            "Epoch 24/25\n",
            "1016/1015 [==============================] - 27s 26ms/step - loss: 154.1525 - val_loss: 132.8005\n",
            "Epoch 25/25\n",
            "1016/1015 [==============================] - 26s 26ms/step - loss: 151.5683 - val_loss: 150.0494\n"
          ],
          "name": "stdout"
        }
      ]
    },
    {
      "metadata": {
        "id": "DE5lV3DdUhss",
        "colab_type": "code",
        "colab": {
          "base_uri": "https://localhost:8080/",
          "height": 427
        },
        "outputId": "44c4c8d9-751a-4ee7-ca01-db7d7c9b991e"
      },
      "cell_type": "code",
      "source": [
        "import matplotlib.pyplot as plt\n",
        "hist_df = pd.DataFrame(history.history)\n",
        "\n",
        "fig = plt.figure(figsize=(14,6))\n",
        "plt.style.use('bmh')\n",
        "params_dict = dict(linestyle='solid', linewidth=0.25, marker='o', markersize=6)\n",
        "\n",
        "plt.subplot(121)\n",
        "plt.plot(hist_df.loss, label='Training loss', **params_dict)\n",
        "plt.plot(hist_df.val_loss, label='Validation loss', **params_dict)\n",
        "plt.title('Loss for ' + str(len(history.epoch)) + ' epochs')\n",
        "plt.xlabel('Epoch')\n",
        "plt.ylabel('Loss')\n",
        "plt.legend()"
      ],
      "execution_count": 26,
      "outputs": [
        {
          "output_type": "execute_result",
          "data": {
            "text/plain": [
              "<matplotlib.legend.Legend at 0x7fa0f855b198>"
            ]
          },
          "metadata": {
            "tags": []
          },
          "execution_count": 26
        },
        {
          "output_type": "display_data",
          "data": {
            "image/png": "[encoded data removed]",
            "text/plain": [
              "<Figure size 1008x432 with 1 Axes>"
            ]
          },
          "metadata": {
            "tags": []
          }
        }
      ]
    },
    {
      "metadata": {
        "id": "yM6EZazTUlJs",
        "colab_type": "code",
        "colab": {}
      },
      "cell_type": "code",
      "source": [
        "model.save('age.h5')"
      ],
      "execution_count": 0,
      "outputs": []
    },
    {
      "metadata": {
        "id": "ALce9mpaUoe1",
        "colab_type": "code",
        "colab": {}
      },
      "cell_type": "code",
      "source": [
        ""
      ],
      "execution_count": 0,
      "outputs": []
    }
  ]
}