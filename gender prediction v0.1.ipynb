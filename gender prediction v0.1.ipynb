{
  "nbformat": 4,
  "nbformat_minor": 0,
  "metadata": {
    "colab": {
      "name": "Gender Classification using IMDB WIKI Dataset.ipynb",
      "version": "0.3.2",
      "provenance": []
    },
    "kernelspec": {
      "name": "python3",
      "display_name": "Python 3"
    },
    "accelerator": "GPU"
  },
  "cells": [
    {
      "metadata": {
        "id": "iG4wCkI8r_4A",
        "colab_type": "code",
        "outputId": "60cfaf7c-9d5d-46c6-b7ff-1d474fd1afda",
        "colab": {
          "base_uri": "https://localhost:8080/",
          "height": 125
        }
      },
      "cell_type": "code",
      "source": [
        "g# Load the Drive helper and mount\n",
        "from google.colab import drive\n",
        "\n",
        "# This will prompt for authorization.\n",
        "drive.mount('/content/drive')"
      ],
      "execution_count": 0,
      "outputs": [
        {
          "output_type": "stream",
          "text": [
            "Go to this URL in a browser: https://accounts.google.com/o/oauth2/auth?client_id=947318989803-6bn6qk8qdgf4n4g3pfee6491hc0brc4i.apps.googleusercontent.com&redirect_uri=urn%3Aietf%3Awg%3Aoauth%3A2.0%3Aoob&scope=email%20https%3A%2F%2Fwww.googleapis.com%2Fauth%2Fdocs.test%20https%3A%2F%2Fwww.googleapis.com%2Fauth%2Fdrive%20https%3A%2F%2Fwww.googleapis.com%2Fauth%2Fdrive.photos.readonly%20https%3A%2F%2Fwww.googleapis.com%2Fauth%2Fpeopleapi.readonly&response_type=code\n",
            "\n",
            "Enter your authorization code:\n",
            "··········\n",
            "Mounted at /content/drive\n"
          ],
          "name": "stdout"
        }
      ]
    },
    {
      "metadata": {
        "id": "S5A-v-M_tFoG",
        "colab_type": "code",
        "colab": {}
      },
      "cell_type": "code",
      "source": [
        "!mkdir data\n",
        "!cp './drive/My Drive/datasets/IMDB WIKI Dataset/imdb_0.zip' ./data/\n",
        "!cp './drive/My Drive/datasets/IMDB WIKI Dataset/imdb_1.zip' ./data/\n",
        "!cp './drive/My Drive/datasets/IMDB WIKI Dataset/imdb_2.zip' ./data/\n",
        "!cp './drive/My Drive/datasets/IMDB WIKI Dataset/imdb_3.zip' ./data/\n",
        "!cp './drive/My Drive/datasets/IMDB WIKI Dataset/imdb_4.zip' ./data/\n",
        "!cp './drive/My Drive/datasets/IMDB WIKI Dataset/wiki_0.zip' ./data/"
      ],
      "execution_count": 0,
      "outputs": []
    },
    {
      "metadata": {
        "id": "nKB0k-2dulQz",
        "colab_type": "code",
        "outputId": "974dc74f-bda9-4972-970e-3c07424fe390",
        "colab": {
          "base_uri": "https://localhost:8080/",
          "height": 688
        }
      },
      "cell_type": "code",
      "source": [
        "!apt-get install unzip\n",
        "!unzip ./data/imdb_0.zip -d dataset\n",
        "!unzip ./data/imdb_1.zip -d dataset\n",
        "!unzip ./data/imdb_2.zip -d dataset\n",
        "!unzip ./data/imdb_3.zip -d dataset\n",
        "!unzip ./data/imdb_4.zip -d dataset\n",
        "!unzip ./data/wiki_0.zip -d dataset\n"
      ],
      "execution_count": 0,
      "outputs": [
        {
          "output_type": "stream",
          "text": [
            "Reading package lists... Done\n",
            "Building dependency tree       \n",
            "Reading state information... Done\n",
            "unzip is already the newest version (6.0-21ubuntu1).\n",
            "0 upgraded, 0 newly installed, 0 to remove and 13 not upgraded.\n",
            "Archive:  ./data/imdb_0.zip\n",
            "replace dataset/imdb_0.csv? [y]es, [n]o, [A]ll, [N]one, [r]ename: Archive:  ./data/imdb_1.zip\n",
            "  inflating: dataset/imdb_11.csv     \n",
            "  inflating: dataset/imdb_12.csv     \n",
            "  inflating: dataset/imdb_13.csv     \n",
            "  inflating: dataset/imdb_14.csv     \n",
            "  inflating: dataset/imdb_15.csv     \n",
            "  inflating: dataset/imdb_16.csv     \n",
            "  inflating: dataset/imdb_17.csv     \n",
            "  inflating: dataset/imdb_18.csv     Archive:  ./data/imdb_2.zip\n",
            "  inflating: dataset/imdb_21.csv     \n",
            "  inflating: dataset/imdb_22.csv     \n",
            "  inflating: dataset/imdb_23.csv     \n",
            "  inflating: dataset/imdb_24.csv     \n",
            "  inflating: dataset/imdb_25.csv     \n",
            "  inflating: dataset/imdb_26.csv     \n",
            "  inflating: dataset/imdb_27.csv     \n",
            "  inflating: dataset/imdb_28.csv     \n",
            "  inflating: dataset/imdb_29.csv     \n",
            "  inflating: dataset/imdb_30.csv     \n",
            "Archive:  ./data/imdb_3.zip\n",
            "  inflating: dataset/imdb_31.csv     \n",
            "  inflating: dataset/imdb_32.csv     \n",
            "  inflating: dataset/imdb_33.csv     \n",
            "  inflating: dataset/imdb_34.csv     \n",
            "  inflating: dataset/imdb_35.csv     \n",
            "  inflating: dataset/imdb_36.csv     \n",
            "  inflating: dataset/imdb_37.csv     \n",
            "  inflating: dataset/imdb_38.csv     \n",
            "  inflating: dataset/imdb_39.csv     \n",
            "  inflating: dataset/imdb_40.csv     \n"
          ],
          "name": "stdout"
        }
      ]
    },
    {
      "metadata": {
        "id": "PrTS7SPfwp4-",
        "colab_type": "code",
        "colab": {}
      },
      "cell_type": "code",
      "source": [
        "import pandas as pd\n",
        "import numpy as np"
      ],
      "execution_count": 0,
      "outputs": []
    },
    {
      "metadata": {
        "id": "ZH6nZND4yBbq",
        "colab_type": "code",
        "colab": {}
      },
      "cell_type": "code",
      "source": [
        "data1 = pd.read_csv('dataset/imdb_0.csv')\n",
        "data2 = pd.read_csv('dataset/imdb_1.csv')\n",
        "data3 = pd.read_csv('dataset/imdb_2.csv')\n",
        "\n",
        "data = pd.concat([data1, data2, data3])"
      ],
      "execution_count": 0,
      "outputs": []
    },
    {
      "metadata": {
        "id": "Wv8y34jbyJMy",
        "colab_type": "code",
        "outputId": "f522bbdd-366c-426d-d835-507fe1b55928",
        "colab": {
          "base_uri": "https://localhost:8080/",
          "height": 346
        }
      },
      "cell_type": "code",
      "source": [
        "data.head()"
      ],
      "execution_count": 0,
      "outputs": [
        {
          "output_type": "execute_result",
          "data": {
            "text/html": [
              "<div>\n",
              "<style scoped>\n",
              "    .dataframe tbody tr th:only-of-type {\n",
              "        vertical-align: middle;\n",
              "    }\n",
              "\n",
              "    .dataframe tbody tr th {\n",
              "        vertical-align: top;\n",
              "    }\n",
              "\n",
              "    .dataframe thead th {\n",
              "        text-align: right;\n",
              "    }\n",
              "</style>\n",
              "<table border=\"1\" class=\"dataframe\">\n",
              "  <thead>\n",
              "    <tr style=\"text-align: right;\">\n",
              "      <th></th>\n",
              "      <th>Unnamed: 0</th>\n",
              "      <th>pixel1</th>\n",
              "      <th>pixel2</th>\n",
              "      <th>pixel3</th>\n",
              "      <th>pixel4</th>\n",
              "      <th>pixel5</th>\n",
              "      <th>pixel6</th>\n",
              "      <th>pixel7</th>\n",
              "      <th>pixel8</th>\n",
              "      <th>pixel9</th>\n",
              "      <th>...</th>\n",
              "      <th>pixel4091</th>\n",
              "      <th>pixel4092</th>\n",
              "      <th>pixel4093</th>\n",
              "      <th>pixel4094</th>\n",
              "      <th>pixel4095</th>\n",
              "      <th>pixel4096</th>\n",
              "      <th>dob</th>\n",
              "      <th>photo_taken</th>\n",
              "      <th>gender</th>\n",
              "      <th>name</th>\n",
              "    </tr>\n",
              "  </thead>\n",
              "  <tbody>\n",
              "    <tr>\n",
              "      <th>0</th>\n",
              "      <td>0</td>\n",
              "      <td>15</td>\n",
              "      <td>17</td>\n",
              "      <td>16</td>\n",
              "      <td>16</td>\n",
              "      <td>17</td>\n",
              "      <td>19</td>\n",
              "      <td>22</td>\n",
              "      <td>22</td>\n",
              "      <td>14</td>\n",
              "      <td>...</td>\n",
              "      <td>89</td>\n",
              "      <td>79</td>\n",
              "      <td>77</td>\n",
              "      <td>68</td>\n",
              "      <td>66</td>\n",
              "      <td>69</td>\n",
              "      <td>1899-5-10</td>\n",
              "      <td>1968</td>\n",
              "      <td>male</td>\n",
              "      <td>Fred Astaire</td>\n",
              "    </tr>\n",
              "    <tr>\n",
              "      <th>1</th>\n",
              "      <td>1</td>\n",
              "      <td>152</td>\n",
              "      <td>171</td>\n",
              "      <td>160</td>\n",
              "      <td>155</td>\n",
              "      <td>163</td>\n",
              "      <td>212</td>\n",
              "      <td>222</td>\n",
              "      <td>216</td>\n",
              "      <td>217</td>\n",
              "      <td>...</td>\n",
              "      <td>99</td>\n",
              "      <td>95</td>\n",
              "      <td>93</td>\n",
              "      <td>92</td>\n",
              "      <td>89</td>\n",
              "      <td>87</td>\n",
              "      <td>1899-5-10</td>\n",
              "      <td>1970</td>\n",
              "      <td>male</td>\n",
              "      <td>Fred Astaire</td>\n",
              "    </tr>\n",
              "    <tr>\n",
              "      <th>2</th>\n",
              "      <td>2</td>\n",
              "      <td>103</td>\n",
              "      <td>103</td>\n",
              "      <td>180</td>\n",
              "      <td>211</td>\n",
              "      <td>217</td>\n",
              "      <td>214</td>\n",
              "      <td>213</td>\n",
              "      <td>216</td>\n",
              "      <td>213</td>\n",
              "      <td>...</td>\n",
              "      <td>113</td>\n",
              "      <td>102</td>\n",
              "      <td>96</td>\n",
              "      <td>113</td>\n",
              "      <td>142</td>\n",
              "      <td>134</td>\n",
              "      <td>1899-5-10</td>\n",
              "      <td>1968</td>\n",
              "      <td>male</td>\n",
              "      <td>Fred Astaire</td>\n",
              "    </tr>\n",
              "    <tr>\n",
              "      <th>3</th>\n",
              "      <td>3</td>\n",
              "      <td>150</td>\n",
              "      <td>120</td>\n",
              "      <td>122</td>\n",
              "      <td>159</td>\n",
              "      <td>187</td>\n",
              "      <td>197</td>\n",
              "      <td>200</td>\n",
              "      <td>164</td>\n",
              "      <td>139</td>\n",
              "      <td>...</td>\n",
              "      <td>69</td>\n",
              "      <td>32</td>\n",
              "      <td>28</td>\n",
              "      <td>53</td>\n",
              "      <td>83</td>\n",
              "      <td>112</td>\n",
              "      <td>1899-5-10</td>\n",
              "      <td>1968</td>\n",
              "      <td>male</td>\n",
              "      <td>Fred Astaire</td>\n",
              "    </tr>\n",
              "    <tr>\n",
              "      <th>4</th>\n",
              "      <td>4</td>\n",
              "      <td>161</td>\n",
              "      <td>163</td>\n",
              "      <td>113</td>\n",
              "      <td>143</td>\n",
              "      <td>115</td>\n",
              "      <td>66</td>\n",
              "      <td>58</td>\n",
              "      <td>28</td>\n",
              "      <td>29</td>\n",
              "      <td>...</td>\n",
              "      <td>219</td>\n",
              "      <td>235</td>\n",
              "      <td>240</td>\n",
              "      <td>237</td>\n",
              "      <td>235</td>\n",
              "      <td>238</td>\n",
              "      <td>1899-5-10</td>\n",
              "      <td>1968</td>\n",
              "      <td>male</td>\n",
              "      <td>Fred Astaire</td>\n",
              "    </tr>\n",
              "  </tbody>\n",
              "</table>\n",
              "<p>5 rows × 4101 columns</p>\n",
              "</div>"
            ],
            "text/plain": [
              "   Unnamed: 0  pixel1  pixel2  pixel3  pixel4  pixel5  pixel6  pixel7  pixel8  \\\n",
              "0           0      15      17      16      16      17      19      22      22   \n",
              "1           1     152     171     160     155     163     212     222     216   \n",
              "2           2     103     103     180     211     217     214     213     216   \n",
              "3           3     150     120     122     159     187     197     200     164   \n",
              "4           4     161     163     113     143     115      66      58      28   \n",
              "\n",
              "   pixel9      ...       pixel4091  pixel4092  pixel4093  pixel4094  \\\n",
              "0      14      ...              89         79         77         68   \n",
              "1     217      ...              99         95         93         92   \n",
              "2     213      ...             113        102         96        113   \n",
              "3     139      ...              69         32         28         53   \n",
              "4      29      ...             219        235        240        237   \n",
              "\n",
              "   pixel4095  pixel4096        dob  photo_taken  gender          name  \n",
              "0         66         69  1899-5-10         1968    male  Fred Astaire  \n",
              "1         89         87  1899-5-10         1970    male  Fred Astaire  \n",
              "2        142        134  1899-5-10         1968    male  Fred Astaire  \n",
              "3         83        112  1899-5-10         1968    male  Fred Astaire  \n",
              "4        235        238  1899-5-10         1968    male  Fred Astaire  \n",
              "\n",
              "[5 rows x 4101 columns]"
            ]
          },
          "metadata": {
            "tags": []
          },
          "execution_count": 24
        }
      ]
    },
    {
      "metadata": {
        "id": "5t-bun8hyNNF",
        "colab_type": "code",
        "outputId": "10120509-00ed-4b7e-a274-ecc32ade2a23",
        "colab": {
          "base_uri": "https://localhost:8080/",
          "height": 34
        }
      },
      "cell_type": "code",
      "source": [
        "data.shape"
      ],
      "execution_count": 0,
      "outputs": [
        {
          "output_type": "execute_result",
          "data": {
            "text/plain": [
              "(26603, 4101)"
            ]
          },
          "metadata": {
            "tags": []
          },
          "execution_count": 25
        }
      ]
    },
    {
      "metadata": {
        "id": "XONWp0smyR1w",
        "colab_type": "code",
        "outputId": "88263fb1-d9f3-435c-8478-1ce4af487bb6",
        "colab": {
          "base_uri": "https://localhost:8080/",
          "height": 123
        }
      },
      "cell_type": "code",
      "source": [
        "data.columns"
      ],
      "execution_count": 0,
      "outputs": [
        {
          "output_type": "execute_result",
          "data": {
            "text/plain": [
              "Index(['Unnamed: 0', 'pixel1', 'pixel2', 'pixel3', 'pixel4', 'pixel5',\n",
              "       'pixel6', 'pixel7', 'pixel8', 'pixel9',\n",
              "       ...\n",
              "       'pixel4091', 'pixel4092', 'pixel4093', 'pixel4094', 'pixel4095',\n",
              "       'pixel4096', 'dob', 'photo_taken', 'gender', 'name'],\n",
              "      dtype='object', length=4101)"
            ]
          },
          "metadata": {
            "tags": []
          },
          "execution_count": 26
        }
      ]
    },
    {
      "metadata": {
        "id": "9mAQ5yYxzG4A",
        "colab_type": "code",
        "colab": {}
      },
      "cell_type": "code",
      "source": [
        "data = data.drop(['Unnamed: 0', 'dob', 'photo_taken', 'name'], axis=1)"
      ],
      "execution_count": 0,
      "outputs": []
    },
    {
      "metadata": {
        "id": "Job5Kkd6zSAC",
        "colab_type": "code",
        "outputId": "9236ba79-e196-48f9-8dc7-c804688f7b5f",
        "colab": {
          "base_uri": "https://localhost:8080/",
          "height": 123
        }
      },
      "cell_type": "code",
      "source": [
        "data.columns"
      ],
      "execution_count": 0,
      "outputs": [
        {
          "output_type": "execute_result",
          "data": {
            "text/plain": [
              "Index(['pixel1', 'pixel2', 'pixel3', 'pixel4', 'pixel5', 'pixel6', 'pixel7',\n",
              "       'pixel8', 'pixel9', 'pixel10',\n",
              "       ...\n",
              "       'pixel4088', 'pixel4089', 'pixel4090', 'pixel4091', 'pixel4092',\n",
              "       'pixel4093', 'pixel4094', 'pixel4095', 'pixel4096', 'gender'],\n",
              "      dtype='object', length=4097)"
            ]
          },
          "metadata": {
            "tags": []
          },
          "execution_count": 28
        }
      ]
    },
    {
      "metadata": {
        "id": "aI17xIzYzUzI",
        "colab_type": "code",
        "colab": {}
      },
      "cell_type": "code",
      "source": [
        "X = data.drop(['gender'], axis=1)\n",
        "y = data['gender']"
      ],
      "execution_count": 0,
      "outputs": []
    },
    {
      "metadata": {
        "id": "_uU-volOzdb_",
        "colab_type": "code",
        "colab": {}
      },
      "cell_type": "code",
      "source": [
        "X = X.values\n",
        "y = y.values.reshape(len(y),1)"
      ],
      "execution_count": 0,
      "outputs": []
    },
    {
      "metadata": {
        "id": "E6FrP5puzf1S",
        "colab_type": "code",
        "outputId": "9e6bd566-5e03-4e08-f3c1-d6bba2007e4a",
        "colab": {
          "base_uri": "https://localhost:8080/",
          "height": 34
        }
      },
      "cell_type": "code",
      "source": [
        "X.shape"
      ],
      "execution_count": 0,
      "outputs": [
        {
          "output_type": "execute_result",
          "data": {
            "text/plain": [
              "(26603, 4096)"
            ]
          },
          "metadata": {
            "tags": []
          },
          "execution_count": 47
        }
      ]
    },
    {
      "metadata": {
        "id": "mgsZNeoZzq8M",
        "colab_type": "code",
        "outputId": "5ad502b7-efa3-4f5a-e18c-99fbb694c4f8",
        "colab": {
          "base_uri": "https://localhost:8080/",
          "height": 34
        }
      },
      "cell_type": "code",
      "source": [
        "y.shape"
      ],
      "execution_count": 0,
      "outputs": [
        {
          "output_type": "execute_result",
          "data": {
            "text/plain": [
              "(26603, 1)"
            ]
          },
          "metadata": {
            "tags": []
          },
          "execution_count": 48
        }
      ]
    },
    {
      "metadata": {
        "id": "IKS55ADsz_Hm",
        "colab_type": "code",
        "outputId": "7f99ef72-a473-4a70-bc11-7bf709139c39",
        "colab": {
          "base_uri": "https://localhost:8080/",
          "height": 72
        }
      },
      "cell_type": "code",
      "source": [
        "from sklearn.preprocessing import MinMaxScaler\n",
        "\n",
        "scale = MinMaxScaler()\n",
        "\n",
        "X = scale.fit_transform(X)"
      ],
      "execution_count": 0,
      "outputs": [
        {
          "output_type": "stream",
          "text": [
            "/usr/local/lib/python3.6/dist-packages/sklearn/utils/validation.py:595: DataConversionWarning: Data with input dtype int64 was converted to float64 by MinMaxScaler.\n",
            "  warnings.warn(msg, DataConversionWarning)\n"
          ],
          "name": "stderr"
        }
      ]
    },
    {
      "metadata": {
        "id": "Ha27njyO04tL",
        "colab_type": "code",
        "outputId": "702355ee-b8ef-4b27-b09e-cc2197c70807",
        "colab": {
          "base_uri": "https://localhost:8080/",
          "height": 34
        }
      },
      "cell_type": "code",
      "source": [
        "X.shape"
      ],
      "execution_count": 0,
      "outputs": [
        {
          "output_type": "execute_result",
          "data": {
            "text/plain": [
              "(26603, 4096)"
            ]
          },
          "metadata": {
            "tags": []
          },
          "execution_count": 55
        }
      ]
    },
    {
      "metadata": {
        "id": "C3EpGRrP06QN",
        "colab_type": "code",
        "colab": {}
      },
      "cell_type": "code",
      "source": [
        "from sklearn.preprocessing import OneHotEncoder\n",
        "\n",
        "enc = OneHotEncoder(handle_unknown='ignore')\n",
        "\n",
        "y = enc.fit_transform(y).toarray()"
      ],
      "execution_count": 0,
      "outputs": []
    },
    {
      "metadata": {
        "id": "zInfSCtf1qAN",
        "colab_type": "code",
        "outputId": "315015bf-1897-4720-a217-7941c0ebd2e4",
        "colab": {
          "base_uri": "https://localhost:8080/",
          "height": 34
        }
      },
      "cell_type": "code",
      "source": [
        "from keras.models import Sequential\n",
        "from keras.layers import Dense, Flatten, MaxPooling2D, Conv2D, Dropout"
      ],
      "execution_count": 0,
      "outputs": [
        {
          "output_type": "stream",
          "text": [
            "Using TensorFlow backend.\n"
          ],
          "name": "stderr"
        }
      ]
    },
    {
      "metadata": {
        "id": "Lu391Mkp3LAc",
        "colab_type": "code",
        "outputId": "4a881341-e6f6-487f-9fdf-58491f68674e",
        "colab": {
          "base_uri": "https://localhost:8080/",
          "height": 463
        }
      },
      "cell_type": "code",
      "source": [
        "model = Sequential()\n",
        "\n",
        "model.add(Dense(1000, activation = \"relu\", input_dim=4096))\n",
        "model.add(Dense(128, activation = \"relu\", input_dim=4096))\n",
        "model.add(Dense(2, activation = \"softmax\"))\n",
        "\n",
        "model.compile(optimizer='rmsprop',loss='categorical_crossentropy',metrics=['accuracy'])\n",
        "\n",
        "model.fit(X, y, validation_split = 0.2, nb_epoch=10, batch_size=64)"
      ],
      "execution_count": 0,
      "outputs": [
        {
          "output_type": "stream",
          "text": [
            "/usr/local/lib/python3.6/dist-packages/ipykernel_launcher.py:9: UserWarning: The `nb_epoch` argument in `fit` has been renamed `epochs`.\n",
            "  if __name__ == '__main__':\n"
          ],
          "name": "stderr"
        },
        {
          "output_type": "stream",
          "text": [
            "Train on 21282 samples, validate on 5321 samples\n",
            "Epoch 1/10\n",
            "21282/21282 [==============================] - 10s 448us/step - loss: 3.2070 - acc: 0.5463 - val_loss: 0.7001 - val_acc: 0.5587\n",
            "Epoch 2/10\n",
            "21282/21282 [==============================] - 9s 407us/step - loss: 0.6403 - acc: 0.6621 - val_loss: 0.6722 - val_acc: 0.5770\n",
            "Epoch 3/10\n",
            "21282/21282 [==============================] - 9s 405us/step - loss: 0.6183 - acc: 0.6749 - val_loss: 0.6578 - val_acc: 0.6322\n",
            "Epoch 4/10\n",
            "21282/21282 [==============================] - 9s 402us/step - loss: 0.6015 - acc: 0.6865 - val_loss: 0.6976 - val_acc: 0.5845\n",
            "Epoch 5/10\n",
            "21282/21282 [==============================] - 9s 406us/step - loss: 0.5926 - acc: 0.6960 - val_loss: 0.7900 - val_acc: 0.5625\n",
            "Epoch 6/10\n",
            "21282/21282 [==============================] - 8s 399us/step - loss: 0.5835 - acc: 0.6997 - val_loss: 0.6463 - val_acc: 0.6548\n",
            "Epoch 7/10\n",
            "21282/21282 [==============================] - 9s 402us/step - loss: 0.5801 - acc: 0.7053 - val_loss: 0.6924 - val_acc: 0.6362\n",
            "Epoch 8/10\n",
            "21282/21282 [==============================] - 9s 403us/step - loss: 0.5748 - acc: 0.7076 - val_loss: 0.6433 - val_acc: 0.6546\n",
            "Epoch 9/10\n",
            "21282/21282 [==============================] - 9s 402us/step - loss: 0.5692 - acc: 0.7126 - val_loss: 0.6768 - val_acc: 0.6416\n",
            "Epoch 10/10\n",
            "21282/21282 [==============================] - 9s 403us/step - loss: 0.5659 - acc: 0.7139 - val_loss: 0.7490 - val_acc: 0.6300\n"
          ],
          "name": "stdout"
        },
        {
          "output_type": "execute_result",
          "data": {
            "text/plain": [
              "<keras.callbacks.History at 0x7fb286abcd30>"
            ]
          },
          "metadata": {
            "tags": []
          },
          "execution_count": 83
        }
      ]
    },
    {
      "metadata": {
        "id": "DMkmPTGY70pG",
        "colab_type": "code",
        "colab": {}
      },
      "cell_type": "code",
      "source": [
        ""
      ],
      "execution_count": 0,
      "outputs": []
    }
  ]
}